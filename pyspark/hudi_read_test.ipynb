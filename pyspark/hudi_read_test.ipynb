{
 "cells": [
  {
   "cell_type": "code",
   "execution_count": null,
   "metadata": {
    "collapsed": true,
    "ExecuteTime": {
     "start_time": "2023-04-21T21:55:07.769249Z",
     "end_time": "2023-04-21T21:55:12.520942Z"
    }
   },
   "outputs": [],
   "source": [
    "import os\n",
    "from pyspark.sql import SparkSession\n",
    "\n",
    "spark = SparkSession.builder \\\n",
    "    .master(\"local[*]\") \\\n",
    "    .appName(\"hudi_read\") \\\n",
    "    .config('spark.serializer', 'org.apache.spark.serializer.KryoSerializer') \\\n",
    "    .config('spark.sql.catalog.spark_catalog', 'org.apache.spark.sql.hudi.catalog.HoodieCatalog') \\\n",
    "    .config('spark.sql.extensions', 'org.apache.spark.sql.hudi.HoodieSparkSessionExtension') \\\n",
    "    .enableHiveSupport()\n",
    "\n",
    "# https://github.com/apache/hudi/pull/8082\n",
    "spark.config(\"spark.sql.legacy.parquet.nanosAsLong\", \"false\") \\\n",
    "    .config(\"spark.sql.parquet.binaryAsString\", \"false\") \\\n",
    "    .config(\"spark.sql.parquet.int96AsTimestamp\", \"true\") \\\n",
    "    .config(\"spark.sql.caseSensitive\", \"false\")\n",
    "\n",
    "spark = spark.getOrCreate()"
   ]
  },
  {
   "cell_type": "code",
   "execution_count": null,
   "outputs": [],
   "source": [
    "abspath = os.path.abspath('')\n",
    "tablePath = f\"{abspath}/hudi-warehouse/hudi_trips_cow\"\n",
    "spark.sql(f\"create table if not exists hudi_trips_cow using hudi location '{tablePath}';\")\n",
    "spark.sql(\"show tables\").show()\n",
    "# spark.sql(\"show partitions hudi_trips_cow\").show(truncate=False)\n",
    "# spark.sql(\"show current schema\").show()\n",
    "# spark.sql(\"show create table hudi_trips_cow\").show(truncate=False)"
   ],
   "metadata": {
    "collapsed": false,
    "ExecuteTime": {
     "start_time": "2023-04-21T21:56:01.290197Z",
     "end_time": "2023-04-21T21:56:01.678360Z"
    }
   }
  },
  {
   "cell_type": "code",
   "execution_count": null,
   "outputs": [],
   "source": [
    "spark.sql(\"select * from hudi_trips_cow\").toPandas()"
   ],
   "metadata": {
    "collapsed": false,
    "ExecuteTime": {
     "start_time": "2023-04-21T21:46:36.472984Z",
     "end_time": "2023-04-21T21:46:39.402747Z"
    }
   }
  },
  {
   "cell_type": "code",
   "execution_count": null,
   "outputs": [],
   "source": [
    "# test that primary key works\n",
    "spark.sql(\"insert into hudi_trips_cow select * from hudi_trips_cow where partitionpath='asia/india/chennai' and uuid = 'bbfc3870-122a-45d2-a83a-18ceb4d5f8be';\").toPandas()\n",
    "spark.sql(\"select * from hudi_trips_cow where partitionpath='asia/india/chennai' and uuid = 'bbfc3870-122a-45d2-a83a-18ceb4d5f8be';\").toPandas()"
   ],
   "metadata": {
    "collapsed": false,
    "ExecuteTime": {
     "start_time": "2023-04-21T17:00:19.922308Z",
     "end_time": "2023-04-21T17:00:29.745504Z"
    }
   }
  },
  {
   "cell_type": "code",
   "execution_count": null,
   "outputs": [],
   "source": [
    "# test that global index works\n",
    "spark.sql(\"insert into hudi_trips_cow select 0.1111 as begin_lat, 0.564409 as begin_lon, 'driver-213' as driver, 0.798706 as end_lat, 0.026984 as end_lon, 17.851135 as fare, 'rider-213' as rider, 1681877020987 as ts, 'bbfc3870-122a-45d2-a83a-18ceb4d5f8be' as uuid, 'asia/india/chennai_new' as partitionpath;\").show()\n",
    "spark.sql(\"select * from hudi_trips_cow where uuid = 'bbfc3870-122a-45d2-a83a-18ceb4d5f8be';\").toPandas()"
   ],
   "metadata": {
    "collapsed": false,
    "ExecuteTime": {
     "start_time": "2023-04-21T21:29:12.080488Z",
     "end_time": "2023-04-21T21:29:12.372477Z"
    }
   }
  },
  {
   "cell_type": "markdown",
   "source": [],
   "metadata": {
    "collapsed": false
   }
  }
 ],
 "metadata": {
  "kernelspec": {
   "display_name": "Python 3",
   "language": "python",
   "name": "python3"
  },
  "language_info": {
   "codemirror_mode": {
    "name": "ipython",
    "version": 2
   },
   "file_extension": ".py",
   "mimetype": "text/x-python",
   "name": "python",
   "nbconvert_exporter": "python",
   "pygments_lexer": "ipython2",
   "version": "2.7.6"
  }
 },
 "nbformat": 4,
 "nbformat_minor": 0
}
