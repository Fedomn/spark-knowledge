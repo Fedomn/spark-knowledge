{
 "cells": [
  {
   "cell_type": "code",
   "execution_count": null,
   "metadata": {
    "collapsed": true,
    "ExecuteTime": {
     "start_time": "2023-04-14T17:31:05.795989Z",
     "end_time": "2023-04-14T17:31:05.819675Z"
    }
   },
   "outputs": [],
   "source": [
    "from pyspark.sql import SparkSession\n",
    "\n",
    "# --conf spark.sql.catalog.spark_catalog.uri=thrift://127.0.0.1:9083\n",
    "\n",
    "spark = SparkSession.builder \\\n",
    "    .master(\"local[*]\") \\\n",
    "    .appName(\"iceberg_streaming\") \\\n",
    "    .config(\"spark.sql.warehouse.dir\", './hive-warehouse') \\\n",
    "    .config('spark.sql.catalog.spark_catalog', 'org.apache.iceberg.spark.SparkSessionCatalog') \\\n",
    "    .config('spark.sql.catalog.spark_catalog.type', 'hive') \\\n",
    "    .config('spark.sql.catalog.iceberg', 'org.apache.iceberg.spark.SparkCatalog') \\\n",
    "    .config('spark.sql.catalog.iceberg.type', 'hadoop') \\\n",
    "    .config('spark.sql.catalog.iceberg.warehouse', './iceberg-warehouse') \\\n",
    "    .config('spark.sql.extensions', 'org.apache.iceberg.spark.extensions.IcebergSparkSessionExtensions') \\\n",
    "    .getOrCreate()"
   ]
  },
  {
   "cell_type": "code",
   "execution_count": null,
   "outputs": [],
   "source": [
    "spark.sql(\"show tables in iceberg.db\").show(truncate=False)"
   ],
   "metadata": {
    "collapsed": false,
    "ExecuteTime": {
     "start_time": "2023-04-14T15:19:58.560116Z",
     "end_time": "2023-04-14T15:19:58.622224Z"
    }
   }
  },
  {
   "cell_type": "code",
   "execution_count": null,
   "outputs": [],
   "source": [
    "path = \"./data/activity-data/\"\n",
    "static = spark.read.json(path)\n",
    "static.createOrReplaceTempView(\"activityTempView\")\n",
    "print(static.schema)\n",
    "sql = f\"\"\"\n",
    "    create table iceberg.db.activity\n",
    "    using iceberg\n",
    "    partitioned by (device)\n",
    "    as select * from activityTempView limit 10\n",
    "    \"\"\"\n",
    "spark.sql(sql)"
   ],
   "metadata": {
    "collapsed": false
   }
  },
  {
   "cell_type": "code",
   "execution_count": null,
   "outputs": [],
   "source": [
    "spark.sql(\"select * from iceberg.db.activity.files limit 10;\").toPandas()"
   ],
   "metadata": {
    "collapsed": false,
    "ExecuteTime": {
     "start_time": "2023-04-14T14:39:21.463220Z",
     "end_time": "2023-04-14T14:39:23.988446Z"
    }
   }
  }
 ],
 "metadata": {
  "kernelspec": {
   "display_name": "Python 3",
   "language": "python",
   "name": "python3"
  },
  "language_info": {
   "codemirror_mode": {
    "name": "ipython",
    "version": 2
   },
   "file_extension": ".py",
   "mimetype": "text/x-python",
   "name": "python",
   "nbconvert_exporter": "python",
   "pygments_lexer": "ipython2",
   "version": "2.7.6"
  }
 },
 "nbformat": 4,
 "nbformat_minor": 0
}
