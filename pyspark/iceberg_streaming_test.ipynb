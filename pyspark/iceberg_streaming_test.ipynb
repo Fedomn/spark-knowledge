{
 "cells": [
  {
   "cell_type": "code",
   "execution_count": null,
   "metadata": {
    "collapsed": true,
    "ExecuteTime": {
     "start_time": "2023-04-17T09:41:56.730280Z",
     "end_time": "2023-04-17T09:42:02.777222Z"
    }
   },
   "outputs": [],
   "source": [
    "from pyspark.sql import SparkSession\n",
    "\n",
    "# --conf spark.sql.catalog.spark_catalog.uri=thrift://127.0.0.1:9083\n",
    "\n",
    "spark = SparkSession.builder \\\n",
    "    .master(\"local[*]\") \\\n",
    "    .appName(\"iceberg_streaming\") \\\n",
    "    .config('spark.sql.catalog.spark_catalog', 'org.apache.iceberg.spark.SparkSessionCatalog') \\\n",
    "    .config('spark.sql.catalog.spark_catalog.type', 'hadoop') \\\n",
    "    .config(\"spark.sql.catalog.spark_catalog.warehouse\", './hive-warehouse') \\\n",
    "    .config('spark.sql.catalog.iceberg', 'org.apache.iceberg.spark.SparkCatalog') \\\n",
    "    .config('spark.sql.catalog.iceberg.type', 'hadoop') \\\n",
    "    .config('spark.sql.catalog.iceberg.warehouse', './iceberg-warehouse') \\\n",
    "    .config('spark.sql.extensions', 'org.apache.iceberg.spark.extensions.IcebergSparkSessionExtensions') \\\n",
    "    .getOrCreate()"
   ]
  },
  {
   "cell_type": "code",
   "execution_count": null,
   "outputs": [],
   "source": [
    "spark.sql(\"show tables in iceberg.db\").show(truncate=False)"
   ],
   "metadata": {
    "collapsed": false,
    "ExecuteTime": {
     "start_time": "2023-04-17T09:42:08.369831Z",
     "end_time": "2023-04-17T09:42:13.309186Z"
    }
   }
  },
  {
   "cell_type": "code",
   "execution_count": null,
   "outputs": [],
   "source": [
    "path = \"./data/activity-data/\"\n",
    "static = spark.read.json(path)\n",
    "static.createOrReplaceTempView(\"activityTempView\")\n",
    "print(static.schema)\n",
    "sql = f\"\"\"\n",
    "    create table iceberg.db.activity\n",
    "    using iceberg\n",
    "    partitioned by (device)\n",
    "    as select * from activityTempView limit 10\n",
    "    \"\"\"\n",
    "spark.sql(sql)"
   ],
   "metadata": {
    "collapsed": false
   }
  },
  {
   "cell_type": "code",
   "execution_count": null,
   "outputs": [],
   "source": [
    "spark.sql(\"select * from iceberg.db.activity.files;\").toPandas()"
   ],
   "metadata": {
    "collapsed": false,
    "ExecuteTime": {
     "start_time": "2023-04-17T09:42:18.400967Z",
     "end_time": "2023-04-17T09:42:22.276303Z"
    }
   }
  },
  {
   "cell_type": "code",
   "execution_count": null,
   "outputs": [],
   "source": [
    "spark.sql(\"select * from iceberg.db.activity.snapshots;\").toPandas()"
   ],
   "metadata": {
    "collapsed": false,
    "ExecuteTime": {
     "start_time": "2023-04-17T09:42:29.886511Z",
     "end_time": "2023-04-17T09:42:30.096337Z"
    }
   }
  },
  {
   "cell_type": "code",
   "execution_count": null,
   "outputs": [],
   "source": [
    "# Compact data files\n",
    "spark.sql(\"CALL iceberg.system.rewrite_data_files(table => 'iceberg.db.activity')\").show()"
   ],
   "metadata": {
    "collapsed": false,
    "ExecuteTime": {
     "start_time": "2023-04-17T09:42:36.770094Z",
     "end_time": "2023-04-17T09:42:37.092562Z"
    }
   }
  },
  {
   "cell_type": "code",
   "execution_count": null,
   "outputs": [],
   "source": [
    "spark.sql(\"CALL iceberg.system.expire_snapshots(table => 'iceberg.db.activity', older_than => timestamp '2023-04-14 21:17:55', retain_last=>1)\").toPandas()"
   ],
   "metadata": {
    "collapsed": false,
    "ExecuteTime": {
     "start_time": "2023-04-17T09:48:26.586753Z",
     "end_time": "2023-04-17T09:48:27.263896Z"
    }
   }
  },
  {
   "cell_type": "code",
   "execution_count": null,
   "outputs": [],
   "source": [
    "# orphan files include data and metadata files\n",
    "spark.sql(\"CALL iceberg.system.remove_orphan_files(table => 'iceberg.db.activity', older_than => timestamp '2023-04-14 21:17:55', dry_run=>true)\").toPandas()\n",
    "# spark.sql(\"CALL iceberg.system.remove_orphan_files(table => 'iceberg.db.activity', older_than => timestamp '2023-04-14 21:17:55')\").toPandas()"
   ],
   "metadata": {
    "collapsed": false,
    "ExecuteTime": {
     "start_time": "2023-04-17T09:50:53.100687Z",
     "end_time": "2023-04-17T09:50:53.960842Z"
    }
   }
  }
 ],
 "metadata": {
  "kernelspec": {
   "display_name": "Python 3",
   "language": "python",
   "name": "python3"
  },
  "language_info": {
   "codemirror_mode": {
    "name": "ipython",
    "version": 2
   },
   "file_extension": ".py",
   "mimetype": "text/x-python",
   "name": "python",
   "nbconvert_exporter": "python",
   "pygments_lexer": "ipython2",
   "version": "2.7.6"
  }
 },
 "nbformat": 4,
 "nbformat_minor": 0
}
